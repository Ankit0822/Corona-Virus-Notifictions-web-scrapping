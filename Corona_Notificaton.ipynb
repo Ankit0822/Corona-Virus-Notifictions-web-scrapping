{
 "cells": [
  {
   "cell_type": "code",
   "execution_count": 1,
   "metadata": {},
   "outputs": [],
   "source": [
    "from plyer import notification\n",
    "import requests\n",
    "from bs4 import BeautifulSoup\n",
    "import time"
   ]
  },
  {
   "cell_type": "code",
   "execution_count": 2,
   "metadata": {},
   "outputs": [],
   "source": [
    "def notifyMe(title,message):\n",
    "    notification.notify(\n",
    "        title=title,\n",
    "        message=message,\n",
    "        app_icon=\"corona.ico\",\n",
    "        timeout=3\n",
    "    )"
   ]
  },
  {
   "cell_type": "code",
   "execution_count": 3,
   "metadata": {},
   "outputs": [],
   "source": [
    "def getData(url):\n",
    "    r=requests.get(url)\n",
    "    return r.text"
   ]
  },
  {
   "cell_type": "code",
   "execution_count": null,
   "metadata": {},
   "outputs": [],
   "source": [
    "if __name__==\"__main__\":\n",
    "    #notifyMe(\"Ankit\",\"Lets stop the spread of this virus together\")\n",
    "    while True:\n",
    "        \n",
    "        myHtmlData=getData('https://www.mohfw.gov.in//')\n",
    "        soup = BeautifulSoup(myHtmlData, 'html.parser')\n",
    "    #print(soup.prettify())\n",
    "        myDataStr= \"\"\n",
    "        for tr in soup.find_all('tbody')[7].find_all('tr'):\n",
    "            myDataStr +=tr.get_text()\n",
    "        myDataStr=myDataStr[1:]\n",
    "        itemList=myDataStr.split(\"\\n\\n\")\n",
    "    \n",
    "        states=['West Bengal','Uttar Pradesh','Bihar','Delhi','Rajasthan','Madhya Pradesh','Haryana','Maharashtra','Gujarat','Punjab']\n",
    "        for item in itemList[0:26]:\n",
    "            dataList=item.split('\\n')\n",
    "            if dataList[1] in states:\n",
    "                nTitle='Cases of Covid-19(Corona Virus)'\n",
    "                nText=f\"STATE {dataList[1]}\\nIndian: {dataList[2]}\\nForeign: {dataList[3]}\\nCured: {dataList[4]}\\nDeaths: {dataList[5]}\"\n",
    "                notifyMe(nTitle,nText)\n",
    "                time.sleep(6)\n",
    "        time.sleep(3600)"
   ]
  },
  {
   "cell_type": "code",
   "execution_count": null,
   "metadata": {},
   "outputs": [],
   "source": []
  },
  {
   "cell_type": "code",
   "execution_count": null,
   "metadata": {},
   "outputs": [],
   "source": []
  }
 ],
 "metadata": {
  "kernelspec": {
   "display_name": "Python 3",
   "language": "python",
   "name": "python3"
  },
  "language_info": {
   "codemirror_mode": {
    "name": "ipython",
    "version": 3
   },
   "file_extension": ".py",
   "mimetype": "text/x-python",
   "name": "python",
   "nbconvert_exporter": "python",
   "pygments_lexer": "ipython3",
   "version": "3.7.6"
  }
 },
 "nbformat": 4,
 "nbformat_minor": 4
}
